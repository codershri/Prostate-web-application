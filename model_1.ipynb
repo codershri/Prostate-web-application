{
 "cells": [
  {
   "cell_type": "code",
   "execution_count": null,
   "metadata": {
    "vscode": {
     "languageId": "plaintext"
    }
   },
   "outputs": [],
   "source": [
    "pip install tensorflow numpy matplotlib scikit-learn opencv-python\n"
   ]
  },
  {
   "cell_type": "code",
   "execution_count": null,
   "metadata": {
    "vscode": {
     "languageId": "plaintext"
    }
   },
   "outputs": [],
   "source": [
    "import tensorflow as tf\n",
    "from tensorflow.keras.models import Sequential\n",
    "from tensorflow.keras.layers import Conv2D, MaxPooling2D, Flatten, Dense, Dropout\n",
    "from tensorflow.keras.preprocessing.image import ImageDataGenerator\n",
    "from sklearn.model_selection import train_test_split\n",
    "import os\n",
    "import numpy as np\n",
    "import cv2\n",
    "import matplotlib.pyplot as plt\n",
    "\n",
    "# Load and preprocess data\n",
    "def load_data(image_folder, label_folder):\n",
    "    images = []\n",
    "    labels = []\n",
    "    for file_name in os.listdir(image_folder):\n",
    "        img_path = os.path.join(image_folder, file_name)\n",
    "        label_path = os.path.join(label_folder, file_name.replace('.jpg', '.png'))  # Adjust extension as needed\n",
    "        \n",
    "        # Load image and label\n",
    "        img = cv2.imread(img_path)\n",
    "        img = cv2.resize(img, (224, 224))  # Resize for CNN input\n",
    "        label = cv2.imread(label_path, 0)  # Load ground truth as grayscale\n",
    "        \n",
    "        images.append(img)\n",
    "        labels.append(1 if label.sum() > 0 else 0)  # Binary label (Cancer/No Cancer)\n",
    "\n",
    "    return np.array(images), np.array(labels)\n",
    "\n",
    "# Paths to your dataset\n",
    "image_folder = \"D:\\\\prostate cancer\\\\Input Images-20240403T134056Z-001\\\\Input Images\"\n",
    "label_folder = \"D:\\\\prostate cancer\\\\Ground Truth-20240403T133821Z-001\\\\Ground Truth\"\n",
    "\n",
    "images, labels = load_data(image_folder, label_folder)\n",
    "images = images / 255.0  # Normalize images\n",
    "\n",
    "# Train-test split\n",
    "X_train, X_val, y_train, y_val = train_test_split(images, labels, test_size=0.2, random_state=42)\n",
    "\n",
    "# Data augmentation\n",
    "datagen = ImageDataGenerator(rotation_range=20, horizontal_flip=True, zoom_range=0.2)\n",
    "datagen.fit(X_train)\n",
    "\n",
    "# Build CNN model\n",
    "model = Sequential([\n",
    "    Conv2D(32, (3, 3), activation='relu', input_shape=(224, 224, 3)),\n",
    "    MaxPooling2D(pool_size=(2, 2)),\n",
    "    Conv2D(64, (3, 3), activation='relu'),\n",
    "    MaxPooling2D(pool_size=(2, 2)),\n",
    "    Conv2D(128, (3, 3), activation='relu'),\n",
    "    MaxPooling2D(pool_size=(2, 2)),\n",
    "    Flatten(),\n",
    "    Dense(128, activation='relu'),\n",
    "    Dropout(0.5),\n",
    "    Dense(1, activation='sigmoid')  # Binary classification\n",
    "])\n",
    "\n",
    "model.compile(optimizer='adam', loss='binary_crossentropy', metrics=['accuracy'])\n",
    "\n",
    "# Train the model\n",
    "history = model.fit(datagen.flow(X_train, y_train, batch_size=32),\n",
    "                    validation_data=(X_val, y_val),\n",
    "                    epochs=20)\n",
    "\n",
    "# Save the model\n",
    "model.save(\"prostate_cancer_model.h5\")\n",
    "\n",
    "# Plot training history\n",
    "plt.plot(history.history['accuracy'], label='Accuracy')\n",
    "plt.plot(history.history['val_accuracy'], label='Validation Accuracy')\n",
    "plt.legend()\n",
    "plt.show()\n"
   ]
  }
 ],
 "metadata": {
  "language_info": {
   "name": "python"
  }
 },
 "nbformat": 4,
 "nbformat_minor": 2
}
